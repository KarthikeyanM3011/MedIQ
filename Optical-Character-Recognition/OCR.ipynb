{
 "cells": [
  {
   "cell_type": "code",
   "execution_count": null,
   "metadata": {},
   "outputs": [],
   "source": [
    "import keras_ocr\n",
    "import pandas as pd\n",
    "import matplotlib.pyplot as plt\n",
    "import spacy\n",
    "img ='print.jpg'\n",
    "pipeline = keras_ocr.pipeline.Pipeline()\n",
    "value = pipeline.recognize([img])\n",
    "df = pd.DataFrame(value[0],columns=[\"Text\",'Size'])\n",
    "text = ''\n",
    "for i in df['Text']:\n",
    "    text+=' '\n",
    "    text+=i\n",
    "print(text)\n",
    "med7 = spacy.load(\"en_core_med7_lg\")\n",
    "options = {'ents': med7.pipe_labels['ner']}\n",
    "doc = med7(text)\n",
    "spacy.displacy.render(doc, style='ent', jupyter=True, options=options)\n",
    "a = [(ent.text, ent.label_) for ent in doc.ents]\n",
    "l=[]\n",
    "\n",
    "result = []\n",
    "for i in range(len(a)):\n",
    "    if a[i][1] not in l:\n",
    "        l.append(a[i][1])\n",
    "        result.append(a[i][0])\n",
    "print(l)\n",
    "print(result)\n",
    "for i in range(len(l)):\n",
    "    print(l[i],\"-->\",result[i])"
   ]
  }
 ],
 "metadata": {
  "language_info": {
   "name": "python"
  }
 },
 "nbformat": 4,
 "nbformat_minor": 2
}
